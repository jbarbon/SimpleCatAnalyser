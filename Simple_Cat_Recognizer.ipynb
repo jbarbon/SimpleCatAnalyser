{
 "cells": [
  {
   "cell_type": "markdown",
   "id": "bfd455f0",
   "metadata": {},
   "source": [
    "# Import"
   ]
  },
  {
   "cell_type": "code",
   "execution_count": 4,
   "id": "b3948060",
   "metadata": {},
   "outputs": [],
   "source": [
    "import numpy as np\n",
    "import h5py\n",
    "import copy\n",
    "import matplotlib.pyplot as plt\n",
    "import scipy\n",
    "from PIL import Image\n",
    "from scipy import ndimage\n",
    "\n",
    "import requests\n",
    "from io import BytesIO"
   ]
  },
  {
   "cell_type": "markdown",
   "id": "3fcc3488",
   "metadata": {},
   "source": [
    "# Helper Functions"
   ]
  },
  {
   "cell_type": "code",
   "execution_count": 5,
   "id": "c58a1f8d",
   "metadata": {},
   "outputs": [],
   "source": [
    "# Load the data from the .h5 file containing the images and the labels \n",
    "def load_dataset():\n",
    "    train_dataset = h5py.File('datasets/train_catvnoncat.h5', \"r\")\n",
    "    train_set_x_orig = np.array(train_dataset[\"train_set_x\"][:]) # your train set features\n",
    "    train_set_y_orig = np.array(train_dataset[\"train_set_y\"][:]) # your train set labels\n",
    "\n",
    "    test_dataset = h5py.File('datasets/test_catvnoncat.h5', \"r\")\n",
    "    test_set_x_orig = np.array(test_dataset[\"test_set_x\"][:]) # your test set features\n",
    "    test_set_y_orig = np.array(test_dataset[\"test_set_y\"][:]) # your test set labels\n",
    "\n",
    "    classes = np.array(test_dataset[\"list_classes\"][:]) # the list of classes\n",
    "    \n",
    "    train_set_y_orig = train_set_y_orig.reshape((1, train_set_y_orig.shape[0]))\n",
    "    test_set_y_orig = test_set_y_orig.reshape((1, test_set_y_orig.shape[0]))\n",
    "    \n",
    "    return train_set_x_orig, train_set_y_orig, test_set_x_orig, test_set_y_orig, classes"
   ]
  },
  {
   "cell_type": "code",
   "execution_count": 6,
   "id": "04c60a86",
   "metadata": {},
   "outputs": [],
   "source": [
    "# sigmoid is the activation function used in this binary classificaction\n",
    "def sigmoid(z):\n",
    "\n",
    "    s = 1 / (1 + np.exp(-z))\n",
    "    \n",
    "    return s"
   ]
  },
  {
   "cell_type": "code",
   "execution_count": 7,
   "id": "5e964ff6",
   "metadata": {},
   "outputs": [],
   "source": [
    "# Helper function to initialize w and b to zeros. \n",
    "def initialize_with_zeros(dim):\n",
    "    \n",
    "    w = np.zeros((dim,1))\n",
    "    b = float(0)\n",
    "    return w, b"
   ]
  },
  {
   "cell_type": "markdown",
   "id": "0cce48a3",
   "metadata": {},
   "source": [
    "# Analysing the data "
   ]
  },
  {
   "cell_type": "markdown",
   "id": "8adcff42",
   "metadata": {},
   "source": [
    " Let's load the data into our variables and look at what they are"
   ]
  },
  {
   "cell_type": "code",
   "execution_count": 8,
   "id": "23aa1f54",
   "metadata": {},
   "outputs": [],
   "source": [
    "train_set_x_orig, train_set_y, test_set_x_orig, test_set_y, classes = load_dataset()"
   ]
  },
  {
   "cell_type": "markdown",
   "id": "56e90962",
   "metadata": {},
   "source": [
    " Each line of the train_set_x and test_set_x is an image with 64x64 pixels, with the label given by the train_set_y variable. <font>"
   ]
  },
  {
   "cell_type": "code",
   "execution_count": 9,
   "id": "2efed9e1",
   "metadata": {},
   "outputs": [
    {
     "name": "stdout",
     "output_type": "stream",
     "text": [
      "y = 1, labeled as a cat picture.\n"
     ]
    },
    {
     "data": {
      "image/png": "[encoded data removed]",
      "text/plain": [
       "<Figure size 432x288 with 1 Axes>"
      ]
     },
     "metadata": {
      "needs_background": "light"
     },
     "output_type": "display_data"
    }
   ],
   "source": [
    "plt.imshow(train_set_x_orig[50])\n",
    "print(\"y = \" + str(train_set_y[0,50]) + \", labeled as a \"  + classes[train_set_y[0,50]].decode(\"utf-8\") + \" picture.\" )"
   ]
  },
  {
   "cell_type": "markdown",
   "id": "27aaff0b",
   "metadata": {},
   "source": [
    "The dimensions of the training and test examples are"
   ]
  },
  {
   "cell_type": "code",
   "execution_count": 10,
   "id": "eb9ba4a6",
   "metadata": {},
   "outputs": [
    {
     "name": "stdout",
     "output_type": "stream",
     "text": [
      "Number of training examples: m_train = 209\n",
      "Number of testing examples: m_test = 50\n",
      "Height/Width of each image: num_px = 64\n",
      "Each image is of size: (64, 64, 3)\n",
      "train_set_x shape: (209, 64, 64, 3)\n",
      "train_set_y shape: (1, 209)\n",
      "test_set_x shape: (50, 64, 64, 3)\n",
      "test_set_y shape: (1, 50)\n"
     ]
    }
   ],
   "source": [
    "m_train = (train_set_x_orig.shape[0])\n",
    "m_test  = (test_set_x_orig.shape[0])\n",
    "num_px  = (test_set_x_orig.shape[1])\n",
    "\n",
    "print (\"Number of training examples: m_train = \" + str(m_train))\n",
    "print (\"Number of testing examples: m_test = \" + str(m_test))\n",
    "print (\"Height/Width of each image: num_px = \" + str(num_px))\n",
    "print (\"Each image is of size: (\" + str(num_px) + \", \" + str(num_px) + \", 3)\")\n",
    "print (\"train_set_x shape: \" + str(train_set_x_orig.shape))\n",
    "print (\"train_set_y shape: \" + str(train_set_y.shape))\n",
    "print (\"test_set_x shape: \" + str(test_set_x_orig.shape))\n",
    "print (\"test_set_y shape: \" + str(test_set_y.shape))"
   ]
  },
  {
   "cell_type": "markdown",
   "id": "8ddc24b6",
   "metadata": {},
   "source": [
    "Now let's reshape the training and test sets as a flattened vector of shape (num_px * num_px * 3, 1) <font>"
   ]
  },
  {
   "cell_type": "code",
   "execution_count": 11,
   "id": "ff33ba35",
   "metadata": {},
   "outputs": [
    {
     "name": "stdout",
     "output_type": "stream",
     "text": [
      "train_set_x_flatten shape: (12288, 209)\n",
      "train_set_y shape: (1, 209)\n",
      "test_set_x_flatten shape: (12288, 50)\n",
      "test_set_y shape: (1, 50)\n"
     ]
    }
   ],
   "source": [
    "train_set_x_flatten = train_set_x_orig.reshape(train_set_x_orig.shape[0], -1).T\n",
    "test_set_x_flatten = test_set_x_orig.reshape(test_set_x_orig.shape[0], -1).T\n",
    "\n",
    "\n",
    "print (\"train_set_x_flatten shape: \" + str(train_set_x_flatten.shape))\n",
    "print (\"train_set_y shape: \" + str(train_set_y.shape))\n",
    "print (\"test_set_x_flatten shape: \" + str(test_set_x_flatten.shape))\n",
    "print (\"test_set_y shape: \" + str(test_set_y.shape))\n"
   ]
  },
  {
   "cell_type": "markdown",
   "id": "d31fce95",
   "metadata": {},
   "source": [
    " So now the entire dataset is represented in a vector shape of (12288, 209). In order to standardize our datasets,\n",
    "we divide the the train and test sets by 255, representing the maximum value of a pixel."
   ]
  },
  {
   "cell_type": "code",
   "execution_count": 12,
   "id": "788d9c87",
   "metadata": {},
   "outputs": [],
   "source": [
    "train_set_x = train_set_x_flatten / 255.\n",
    "test_set_x = test_set_x_flatten / 255"
   ]
  },
  {
   "cell_type": "markdown",
   "id": "0f70947f",
   "metadata": {},
   "source": [
    "# Implementing the algorithm"
   ]
  },
  {
   "cell_type": "markdown",
   "id": "44bacbf7",
   "metadata": {},
   "source": [
    "<a name='3'></a>\n",
    "We build our algorithm using Logistic Regression, a simple Neural Network!\n",
    "\n",
    "<img src=\"learning_scheme.png\" style=\"width:650px;height:400px;\">\n",
    "\n",
    "\n",
    "In general terms, each image, translated in the flattened vector, is fed into our algorithm. The algorithm will compute the best parameters $w$ and $b$ and output a value of $\\hat{y}$ between {0,1}. From $\\hat{y}$ we then determine if it's a cat or not a cat.\n",
    "\n",
    "**The mathematical expression of the algorithm are as follows**:\n",
    "\n",
    "For one example $x^{(i)}$:\n",
    "$$z^{(i)} = w^T x^{(i)} + b \\tag{1}$$\n",
    "$$\\hat{y}^{(i)} = a^{(i)} = sigmoid(z^{(i)})\\tag{2}$$ \n",
    "$$ \\mathcal{L}(a^{(i)}, y^{(i)}) =  - y^{(i)}  \\log(a^{(i)}) - (1-y^{(i)} )  \\log(1-a^{(i)})\\tag{3}$$\n",
    "\n",
    "The cost is then computed by summing over all training examples:\n",
    "$$ J = \\frac{1}{m} \\sum_{i=1}^m \\mathcal{L}(a^{(i)}, y^{(i)})\\tag{6}$$"
   ]
  },
  {
   "cell_type": "markdown",
   "id": "3534df10",
   "metadata": {},
   "source": [
    "## Computing forward and backwards propagation"
   ]
  },
  {
   "cell_type": "markdown",
   "id": "9098500b",
   "metadata": {},
   "source": [
    "In the forward propagation the goal is to compute the activation function $\\\\$\n",
    "$A = \\sigma ( w^T X + b) $\n",
    "\n",
    "and the cost function\n",
    "\n",
    "$J = -\\frac{1}{m}\\sum_{i=1}^{m}(y^{(i)}\\log(a^{(i)})+(1-y^{(i)})\\log(1-a^{(i)}))$"
   ]
  },
  {
   "cell_type": "code",
   "execution_count": 13,
   "id": "0775696a",
   "metadata": {},
   "outputs": [],
   "source": [
    "def propagate(w, b, X, Y):\n",
    "    \"\"\"\n",
    "    Arguments:\n",
    "    w -- weights, a numpy array of size (num_px * num_px * 3, 1)\n",
    "    b -- bias, a scalar\n",
    "    X -- data of size (num_px * num_px * 3, number of examples)\n",
    "    Y -- true \"label\" vector (containing 0 if non-cat, 1 if cat) of size (1, number of examples)\n",
    "\n",
    "    Return:\n",
    "    cost -- negative log-likelihood cost for logistic regression\n",
    "    dw -- gradient of the loss with respect to w, thus same shape as w\n",
    "    db -- gradient of the loss with respect to b, thus same shape as b\n",
    "    \"\"\"\n",
    "    \n",
    "    m = X.shape[1] # is the number of examples\n",
    "    \n",
    "    A = sigmoid(np.dot(w.T,X) + b)\n",
    "    cost = -(1/m)*np.sum( np.dot(Y, np.log(A.T)) + np.dot((1-Y),(np.log(1-A.T))) )\n",
    "\n",
    "    dw = (1/m)*np.dot(X,(A-Y).T)\n",
    "    db = (1/m)*((A-Y)).sum()\n",
    "    cost = np.squeeze(np.array(cost))\n",
    "    \n",
    "    \n",
    "    grads = {\"dw\": dw,\n",
    "             \"db\": db}\n",
    "    \n",
    "    return grads, cost"
   ]
  },
  {
   "cell_type": "markdown",
   "id": "4bef85aa",
   "metadata": {},
   "source": [
    "## Optimize function that will learn the parameters $w$ and $b$ that minimizes the cost function $J$"
   ]
  },
  {
   "cell_type": "code",
   "execution_count": 14,
   "id": "4dffaa38",
   "metadata": {},
   "outputs": [],
   "source": [
    "def optimize(w, b, X, Y, num_iterations=100, learning_rate=0.009, print_cost=False):\n",
    "    \n",
    "    \"\"\"\n",
    "    This function optimizes w and b by running a gradient descent algorithm\n",
    "    \n",
    "    Arguments:\n",
    "    w -- weights, a numpy array of size (num_px * num_px * 3, 1)\n",
    "    b -- bias, a scalar\n",
    "    X -- data of shape (num_px * num_px * 3, number of examples)\n",
    "    Y -- true \"label\" vector (containing 0 if non-cat, 1 if cat), of shape (1, number of examples)\n",
    "    num_iterations -- number of iterations of the optimization loop\n",
    "    learning_rate -- learning rate of the gradient descent update rule\n",
    "    print_cost -- True to print the loss every 100 steps\n",
    "    \n",
    "    Returns:\n",
    "    params -- dictionary containing the weights w and bias b\n",
    "    grads -- dictionary containing the gradients of the weights and bias with respect to the cost function\n",
    "    costs -- list of all the costs computed during the optimization, this will be used to plot the learning curve.\n",
    "    \"\"\"\n",
    "    \n",
    "    w = copy.deepcopy(w)\n",
    "    b = copy.deepcopy(b)\n",
    "    \n",
    "    costs = []\n",
    "    \n",
    "    for i in range(num_iterations):\n",
    "\n",
    "        grads, cost = propagate(w, b, X, Y)\n",
    "                \n",
    "        # Retrieve derivatives from grads\n",
    "        dw = grads[\"dw\"]\n",
    "        db = grads[\"db\"]\n",
    "\n",
    "        w = w - learning_rate*dw\n",
    "        b = b - learning_rate*db\n",
    "                \n",
    "        # Record the costs\n",
    "        if i % 100 == 0:\n",
    "            costs.append(cost)\n",
    "            # Print the cost every 100 training iterations\n",
    "        #if print_cost:\n",
    "         #   print (\"Cost after iteration %i: %f\" %(i, cost))\n",
    "    \n",
    "    params = {\"w\": w,\n",
    "              \"b\": b}\n",
    "    \n",
    "    grads = {\"dw\": dw,\n",
    "             \"db\": db}\n",
    "    \n",
    "    return params, grads, costs"
   ]
  },
  {
   "cell_type": "markdown",
   "id": "b2bb99d0",
   "metadata": {},
   "source": [
    "## Predict function that will use $w$ and $b$ optimized in the previous function to predict the labels for the dataset X"
   ]
  },
  {
   "cell_type": "code",
   "execution_count": 15,
   "id": "92038ba3",
   "metadata": {},
   "outputs": [],
   "source": [
    "def predict(w, b, X):\n",
    "    '''\n",
    "    Predict whether the label is 0 or 1 using learned logistic regression parameters (w, b)\n",
    "    \n",
    "    Arguments:\n",
    "    w -- weights, a numpy array of size (num_px * num_px * 3, 1)\n",
    "    b -- bias, a scalar\n",
    "    X -- data of size (num_px * num_px * 3, number of examples)\n",
    "    \n",
    "    Returns:\n",
    "    Y_prediction -- a numpy array (vector) containing all predictions (0/1) for the examples in X\n",
    "    '''\n",
    "    \n",
    "    m = X.shape[1] # number of examples\n",
    "    Y_prediction = np.zeros((1, m))\n",
    "    w = w.reshape(X.shape[0], 1)  # dimensions w = (num_px * num_px * 3, 1)\n",
    "                                  # dimensions X = (num_px * num_px * 3, number of examples)\n",
    "\n",
    "    A = sigmoid(np.dot(w.T,X) + b)  # dimensions A = (1, number of examples)\n",
    "    \n",
    "        \n",
    "    for i in range(A.shape[1]):\n",
    "        \n",
    "        if A[0, i] > 0.5 :\n",
    "            Y_prediction[0,i] = 1\n",
    "        else:\n",
    "            Y_prediction[0,i] = 0\n",
    "        \n",
    "    \n",
    "    return Y_prediction"
   ]
  },
  {
   "cell_type": "markdown",
   "id": "8fc1f2b5",
   "metadata": {},
   "source": [
    "# Merger Model with all the previous functions"
   ]
  },
  {
   "cell_type": "code",
   "execution_count": 16,
   "id": "bca5dfe9",
   "metadata": {},
   "outputs": [],
   "source": [
    "# GRADED FUNCTION: model\n",
    "\n",
    "def model(X_train, Y_train, X_test, Y_test, num_iterations=2000, learning_rate=0.5, print_cost=False):\n",
    "    \"\"\"\n",
    "    Builds the logistic regression model by calling the function you've implemented previously\n",
    "    \n",
    "    Arguments:\n",
    "    X_train -- training set represented by a numpy array of shape (num_px * num_px * 3, m_train)\n",
    "    Y_train -- training labels represented by a numpy array (vector) of shape (1, m_train)\n",
    "    X_test -- test set represented by a numpy array of shape (num_px * num_px * 3, m_test)\n",
    "    Y_test -- test labels represented by a numpy array (vector) of shape (1, m_test)\n",
    "    num_iterations -- hyperparameter representing the number of iterations to optimize the parameters\n",
    "    learning_rate -- hyperparameter representing the learning rate used in the update rule of optimize()\n",
    "    print_cost -- Set to True to print the cost every 100 iterations\n",
    "    \n",
    "    Returns:\n",
    "    d -- dictionary containing information about the model.\n",
    "    \"\"\"\n",
    "    \n",
    "    # Initialize w and b learning parameters\n",
    "    w, b = initialize_with_zeros(X_train.shape[0])\n",
    "    \n",
    "    # Optimize function that will learn the best parameters w and b\n",
    "    params, grads, costs = optimize(w, b, X_train, Y_train, num_iterations, learning_rate, print_cost)\n",
    "     \n",
    "    # Obtain the best parameters w and b\n",
    "    w = params[\"w\"]\n",
    "    b = params[\"b\"]\n",
    "    \n",
    "    # Obtain the predictions\n",
    "    Y_prediction_test = predict(w,b,X_test)\n",
    "    Y_prediction_train = predict(w,b,X_train)\n",
    "\n",
    "    # Print train/test Errors\n",
    "    if print_cost:\n",
    "        print(\"train accuracy: {} %\".format(100 - np.mean(np.abs(Y_prediction_train - Y_train)) * 100))\n",
    "        print(\"test accuracy: {} %\".format(100 - np.mean(np.abs(Y_prediction_test - Y_test)) * 100))\n",
    "\n",
    "    \n",
    "    d = {\"costs\": costs,\n",
    "         \"Y_prediction_test\": Y_prediction_test, \n",
    "         \"Y_prediction_train\" : Y_prediction_train, \n",
    "         \"w\" : w, \n",
    "         \"b\" : b,\n",
    "         \"learning_rate\" : learning_rate,\n",
    "         \"num_iterations\": num_iterations}\n",
    "    \n",
    "    return d"
   ]
  },
  {
   "cell_type": "code",
   "execution_count": null,
   "id": "4a257cf4",
   "metadata": {},
   "outputs": [],
   "source": [
    "logistic_regression_model = model(train_set_x, train_set_y, test_set_x, test_set_y, num_iterations=10000, learning_rate=0.005, print_cost=True)"
   ]
  },
  {
   "cell_type": "markdown",
   "id": "2233efcf",
   "metadata": {},
   "source": [
    "The training accuracy is 100%, as it should be, while the test accuracy is 70%, which is not bad given the small dataset we used."
   ]
  },
  {
   "cell_type": "markdown",
   "id": "b0f8ee30",
   "metadata": {},
   "source": [
    "As a next step, we could work on reducing the model overfitting on training data. \n",
    "\n",
    "Let's plot the cost function versus the iterations and check the convergence!"
   ]
  },
  {
   "cell_type": "code",
   "execution_count": null,
   "id": "0a45d9ff",
   "metadata": {},
   "outputs": [],
   "source": [
    "costs = np.squeeze( logistic_regression_model['costs'] )\n",
    "plt.plot(costs)\n",
    "plt.ylabel('cost')\n",
    "plt.xlabel('iterations (per hundreds)')\n",
    "plt.title(\"Learning rate =\" + str(logistic_regression_model[\"learning_rate\"]))\n",
    "plt.show()"
   ]
  },
  {
   "cell_type": "markdown",
   "id": "3c58c8f1",
   "metadata": {},
   "source": [
    "# Learning rate dependence"
   ]
  },
  {
   "cell_type": "code",
   "execution_count": null,
   "id": "ae1e6755",
   "metadata": {},
   "outputs": [],
   "source": [
    "learning_rates = [0.01, 0.001, 0.0001]\n",
    "models = {}\n",
    "\n",
    "for lr in learning_rates:\n",
    "    print (\"Training a model with learning rate: \" + str(lr))\n",
    "    models[str(lr)] = model(train_set_x, train_set_y, test_set_x, test_set_y, num_iterations=1500, learning_rate=lr, print_cost=False)\n",
    "    print ('\\n' + \"-------------------------------------------------------\" + '\\n')\n",
    "\n",
    "for lr in learning_rates:\n",
    "    plt.plot(np.squeeze(models[str(lr)][\"costs\"]), label=str(models[str(lr)][\"learning_rate\"]))\n",
    "\n",
    "plt.ylabel('cost')\n",
    "plt.xlabel('iterations (hundreds)')\n",
    "\n",
    "legend = plt.legend(loc='upper center', shadow=True)\n",
    "frame = legend.get_frame()\n",
    "frame.set_facecolor('0.90')\n",
    "plt.show()"
   ]
  },
  {
   "cell_type": "markdown",
   "id": "066a2bc9",
   "metadata": {},
   "source": [
    "**Interpretation**: \n",
    "- Different learning rates give different costs and thus different predictions results.\n",
    "- If the learning rate is too large (0.01), the cost may oscillate up and down. It may even diverge (though in this example, using 0.01 still eventually ends up at a good value for the cost). \n",
    "- A lower cost doesn't mean a better model. You have to check if there is possibly overfitting. It happens when the training accuracy is a lot higher than the test accuracy.\n"
   ]
  },
  {
   "cell_type": "markdown",
   "id": "bcb8e948",
   "metadata": {},
   "source": [
    "# Testing with an online image"
   ]
  },
  {
   "cell_type": "code",
   "execution_count": null,
   "id": "b4012a45",
   "metadata": {},
   "outputs": [],
   "source": [
    "\n",
    "def is_cat(url):\n",
    "    response = requests.get(url)\n",
    "    img = Image.open(BytesIO(response.content))\n",
    "    image_array = np.array(img.resize((num_px,num_px)))\n",
    "    plt.imshow(image_array)\n",
    "\n",
    "    #Normalize the image\n",
    "    image_array = image_array / 255\n",
    "    image_array = image_array.reshape(num_px*num_px*3, 1)\n",
    "\n",
    "    output_prediction = predict( logistic_regression_model[\"w\"], logistic_regression_model[\"b\"], image_array)\n",
    "\n",
    "    print(\"y = \" + str(np.squeeze(output_prediction)) + \", your algorithm predicts a \\\"\" + classes[int(np.squeeze(output_prediction)),].decode(\"utf-8\") +  \"\\\" picture.\")"
   ]
  },
  {
   "cell_type": "code",
   "execution_count": null,
   "id": "7141e9a6",
   "metadata": {},
   "outputs": [],
   "source": [
    "is_cat(\"https://i.imgur.com/jOAc2Le.png\")"
   ]
  },
  {
   "cell_type": "code",
   "execution_count": null,
   "id": "412660ff",
   "metadata": {},
   "outputs": [],
   "source": [
    "is_cat(\"https://i.imgur.com/CY6beLX.png\")"
   ]
  },
  {
   "cell_type": "code",
   "execution_count": null,
   "id": "24813667",
   "metadata": {},
   "outputs": [],
   "source": [
    "is_cat(\"https://i.imgur.com/bNrVeTx.png\")"
   ]
  },
  {
   "cell_type": "code",
   "execution_count": null,
   "id": "b158d206",
   "metadata": {},
   "outputs": [],
   "source": [
    "is_cat(\"https://i.imgur.com/UAooJ1a.png\")"
   ]
  }
 ],
 "metadata": {
  "kernelspec": {
   "display_name": "Python 3 (ipykernel)",
   "language": "python",
   "name": "python3"
  },
  "language_info": {
   "codemirror_mode": {
    "name": "ipython",
    "version": 3
   },
   "file_extension": ".py",
   "mimetype": "text/x-python",
   "name": "python",
   "nbconvert_exporter": "python",
   "pygments_lexer": "ipython3",
   "version": "3.10.4"
  }
 },
 "nbformat": 4,
 "nbformat_minor": 5
}
